{
 "cells": [
  {
   "cell_type": "code",
   "execution_count": 1,
   "id": "7be37b94",
   "metadata": {},
   "outputs": [
    {
     "name": "stdout",
     "output_type": "stream",
     "text": [
      "✅ 병합 완료:  ../../data/250609_HNG_merged.tdms\n"
     ]
    }
   ],
   "source": [
    "from nptdms import TdmsFile, TdmsWriter, ChannelObject\n",
    "\n",
    "# 파일 경로\n",
    "file_path1 = '../../data/250609_HNG.tdms'\n",
    "file_path2 = '../../data/250609_HNG_Passive.tdms'\n",
    "\n",
    "# TDMS 파일 열기\n",
    "tdms1 = TdmsFile.read(file_path1)\n",
    "tdms2 = TdmsFile.read(file_path2)\n",
    "\n",
    "# 결과 파일 경로\n",
    "output_path = '../../data/250609_HNG_merged.tdms'\n",
    "\n",
    "# 새 파일 작성\n",
    "with TdmsWriter(output_path) as writer:\n",
    "    for group in tdms1.groups():\n",
    "        group_name = group.name\n",
    "        for channel in group.channels():\n",
    "            channel_name = channel.name\n",
    "\n",
    "            # 첫 번째 파일의 데이터\n",
    "            data1 = channel[:]\n",
    "\n",
    "            # 두 번째 파일에서 동일한 채널의 데이터\n",
    "            try:\n",
    "                data2 = tdms2[group_name][channel_name][:]\n",
    "            except KeyError:\n",
    "                print(f\"⚠️ {group_name}/{channel_name} 은 두 번째 파일에 없습니다. 건너뜁니다.\")\n",
    "                continue\n",
    "\n",
    "            # 데이터 병합\n",
    "            combined_data = list(data1) + list(data2)\n",
    "\n",
    "            # 새 채널 생성\n",
    "            new_channel = ChannelObject(group_name, channel_name, combined_data)\n",
    "\n",
    "            # 파일에 작성\n",
    "            writer.write_segment([new_channel])\n",
    "\n",
    "print(\"✅ 병합 완료: \", output_path)\n"
   ]
  }
 ],
 "metadata": {
  "kernelspec": {
   "display_name": "cdrr",
   "language": "python",
   "name": "python3"
  },
  "language_info": {
   "codemirror_mode": {
    "name": "ipython",
    "version": 3
   },
   "file_extension": ".py",
   "mimetype": "text/x-python",
   "name": "python",
   "nbconvert_exporter": "python",
   "pygments_lexer": "ipython3",
   "version": "3.10.16"
  }
 },
 "nbformat": 4,
 "nbformat_minor": 5
}
